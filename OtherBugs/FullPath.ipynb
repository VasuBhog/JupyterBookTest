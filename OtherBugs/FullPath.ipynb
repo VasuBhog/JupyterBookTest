{
    "metadata": {
        "kernelspec": {
            "name": "SQL",
            "display_name": "SQL",
            "language": "sql"
        },
        "language_info": {
            "name": "sql",
            "version": ""
        }
    },
    "nbformat_minor": 2,
    "nbformat": 4,
    "cells": [
        {
            "cell_type": "markdown",
            "source": [
                "[/Users/vasubhog/GitProjects/LinksBook/Test\\_Link.ipynb](/Users/vasubhog/GitProjects/LinksBook/Test_Link.ipynb)"
            ],
            "metadata": {
                "azdata_cell_guid": "e0496284-7e3c-4956-a3bb-f6597bae2c2f"
            },
            "attachments": {}
        }
    ]
}