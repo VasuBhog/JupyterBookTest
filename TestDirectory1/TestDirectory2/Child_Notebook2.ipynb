{
    "metadata": {
        "kernelspec": {
            "name": "SQL",
            "display_name": "SQL",
            "language": "sql"
        },
        "language_info": {
            "name": "sql",
            "version": ""
        }
    },
    "nbformat_minor": 2,
    "nbformat": 4,
    "cells": [
        {
            "cell_type": "markdown",
            "source": [
                "# Child Notebook 2\n",
                "\n",
                "Located in Test Directory 2 (two sub directories away from root)"
            ],
            "metadata": {
                "azdata_cell_guid": "2ea8b2c4-e55b-4d33-b4a5-74efea2de590"
            },
            "attachments": {}
        }
    ]
}