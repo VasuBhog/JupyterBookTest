{
    "metadata": {
        "kernelspec": {
            "name": "SQL",
            "display_name": "SQL",
            "language": "sql"
        },
        "language_info": {
            "name": "sql",
            "version": ""
        }
    },
    "nbformat_minor": 2,
    "nbformat": 4,
    "cells": [
        {
            "cell_type": "markdown",
            "source": [
                "# Child Notebook 2\n",
                "\n",
                "Located in Test Directory 2 (two sub directories away from root)"
            ],
            "metadata": {
                "azdata_cell_guid": "2ea8b2c4-e55b-4d33-b4a5-74efea2de590"
            },
            "attachments": {}
        },
        {
            "cell_type": "markdown",
            "source": [
                "Absolute Link:\n",
                "\n",
                "[/Users/vasubhog/GitProjects/LinksBook/Test_Link.ipynb](../../Test_Link.ipynb)  \n",
                "\n",
                "  \n",
                "\n",
                "Test | Edit"
            ],
            "metadata": {
                "azdata_cell_guid": "f1ebf6e8-b24b-4db9-80a3-cdab1ed49a7e"
            }
        },
        {
            "cell_type": "markdown",
            "source": [
                "Relative Link:\n",
                "\n",
                "  \n",
                "\n",
                "[Test_Link.ipynb](./Test_Link.ipynb)"
            ],
            "metadata": {
                "azdata_cell_guid": "fb02ae89-eed7-44a2-aebd-021bbd9ae248"
            }
        }
    ]
}