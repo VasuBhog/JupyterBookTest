{
    "metadata": {
        "kernelspec": {
            "name": "SQL",
            "display_name": "SQL",
            "language": "sql"
        },
        "language_info": {
            "name": "sql",
            "version": ""
        }
    },
    "nbformat_minor": 2,
    "nbformat": 4,
    "cells": [
        {
            "cell_type": "markdown",
            "source": [
                "# Test Notebook 1\n",
                "\n",
                "  \n",
                "\n",
                "Located in Root Directory."
            ],
            "metadata": {
                "azdata_cell_guid": "3887dfe4-8a23-4aef-b655-7623731a1368"
            },
            "attachments": {}
        },
        {
            "cell_type": "markdown",
            "source": [
                "### Below Test will use the Test\\_Link.ipynb to test the below scenarios"
            ],
            "metadata": {
                "azdata_cell_guid": "db07ebfc-9557-4c6b-a4d3-52872bb92344"
            },
            "attachments": {}
        },
        {
            "cell_type": "markdown",
            "source": [
                "## Absolute Paths:"
            ],
            "metadata": {
                "azdata_cell_guid": "83f11015-4f97-411f-9bb0-f625a48b300f"
            }
        },
        {
            "cell_type": "markdown",
            "source": [
                "Absolute Link (Edit Cell) Test for :\n",
                "\n",
                "[/Users/vasubhog/GitProjects/LinksBook/Test_Link.ipynb](/Users/vasubhog/GitProjects/LinksBook/Test_Link.ipynb)\n",
                "\n",
                "testBOOK\n",
                ""
            ],
            "metadata": {
                "azdata_cell_guid": "789d91a0-3fe6-49cf-8388-a49f5bacacc8"
            },
            "attachments": {}
        },
        {
            "cell_type": "markdown",
            "source": [
                "Absolute Link (Non-Edit):\n",
                "\n",
                "[/Users/vasubhog/GitProjects/LinksBook/Test_Link.ipynb](./Test_Link.ipynb)"
            ],
            "metadata": {
                "azdata_cell_guid": "2915059f-b903-48c2-91d3-0b01c6c824f6"
            },
            "attachments": {}
        },
        {
            "cell_type": "markdown",
            "source": [
                "Test Directory 1 (Absolute Link):\n",
                "\n",
                "[/Users/vasubhog/GitProjects/LinksBook/TestDirectory1/Child_Notebook1.ipynb](./TestDirectory1/Child_Notebook1.ipynb)\n",
                "\n",
                "[test](./TestDirectory1/Child_Notebook1.ipynb)\n",
                "\n",
                "[/Users/vasubhog/GitProjects/LinksBook/TestDirectory1/Child_Notebook1.ipynb](/Users/vasubhog/GitProjects/LinksBook/TestDirectory1/Child_Notebook1.ipynb)\n",
                "\n",
                ""
            ],
            "metadata": {
                "azdata_cell_guid": "bedafab1-2b79-40d1-9973-de836daf3169"
            },
            "attachments": {}
        },
        {
            "cell_type": "markdown",
            "source": [
                "Test Directory 2 (Absolute Link):\n",
                "\n",
                "[/Users/vasubhog/GitProjects/LinksBook/TestDirectory1/TestDirectory2/Child_Notebook2.ipynb](./TestDirectory1/TestDirectory2/Child_Notebook2.ipynb)"
            ],
            "metadata": {
                "azdata_cell_guid": "d47fb0e4-c49d-414d-8b0e-edc888ff62a3"
            },
            "attachments": {}
        },
        {
            "cell_type": "markdown",
            "source": [
                "## Relative Links:"
            ],
            "metadata": {
                "azdata_cell_guid": "bde34dc4-f6f0-4b69-92ca-6394def1a82d"
            }
        },
        {
            "cell_type": "markdown",
            "source": [
                "Relative Link (Edit Cell):\n",
                "\n",
                "[Test_Link.ipynb](Test_Link.ipynb)\n",
                "\n",
                "Testing"
            ],
            "metadata": {
                "azdata_cell_guid": "bdfe94ca-a7b0-42bc-ab05-45bfb519dc1a"
            },
            "attachments": {}
        },
        {
            "cell_type": "markdown",
            "source": [
                "Relative Link (Non-Edit):\n",
                "\n",
                "[Test_Link.ipynb](Test_Link.ipynb)"
            ],
            "metadata": {
                "azdata_cell_guid": "85ec4d34-aa1f-49c5-90bd-093b6dcb05fe"
            },
            "attachments": {}
        },
        {
            "cell_type": "markdown",
            "source": [
                "### Below Test will use the Child Notebooks to test the below scenarios:"
            ],
            "metadata": {
                "azdata_cell_guid": "fe144af9-8124-4594-88ad-3c93d5e8cd88"
            },
            "attachments": {}
        },
        {
            "cell_type": "markdown",
            "source": [
                "Test Directory 1 (Relative Link):\n",
                "\n",
                "[TestDirectory1/Child_Notebook1.ipynb](./TestDirectory1/Child_Notebook1.ipynb)"
            ],
            "metadata": {
                "azdata_cell_guid": "8a0b4951-0bb3-4fdd-b5ee-2a2b51557668"
            },
            "attachments": {}
        },
        {
            "cell_type": "markdown",
            "source": [
                "Test Directory 2 (Relative Link):\n",
                "\n",
                "[TestDirectory1/TestDirectory2/Child_Notebook2.ipynb](./TestDirectory1/TestDirectory2/Child_Notebook2.ipynb)"
            ],
            "metadata": {
                "azdata_cell_guid": "8cb6d8d2-dd19-4ec2-ac71-9c7894690e0b"
            },
            "attachments": {}
        },
        {
            "cell_type": "markdown",
            "source": [
                "## Anchor links:\n",
                "\n",
                "In same file - \n",
                "\n",
                "[Anchor Test](#Test-Notebook-1)\n",
                "\n",
                "In another file - \n",
                "\n",
                "[# Root Level Notebook ](./Test_Link.ipynb#Root-Level-Notebook%20)"
            ],
            "metadata": {
                "azdata_cell_guid": "e12e87cc-75af-4b51-98b5-ec46c08d92bf"
            }
        },
        {
            "cell_type": "markdown",
            "source": [
                "## Copy Path & Copy Relative Path (Actions):\n",
                "\n",
                "Copy Path (Absolute Path): [/Users/vasubhog/GitProjects/LinksBook/Test_Link.ipynb](./Test_Link.ipynb)\n",
                "\n",
                "Copy Relative Path (Relative Path): [Test_Link.ipynb](./Test_Link.ipynb)"
            ],
            "metadata": {
                "azdata_cell_guid": "de4074f0-e79d-47b1-9ad4-d6b71f0cc149"
            }
        },
        {
            "cell_type": "markdown",
            "source": [
                "## Path with Spaces:\n",
                "\n",
                "Absolute Path: [/Users/vasubhog/GitProjects/LinksBook/Space Test.ipynb](./Space%20Test.ipynb)\n",
                "\n",
                "Relative Path: [Space Test.ipynb](./Space%20Test.ipynb)"
            ],
            "metadata": {
                "azdata_cell_guid": "2691dd86-6c9c-43b1-8d90-f568b77c538d"
            }
        }
    ]
}