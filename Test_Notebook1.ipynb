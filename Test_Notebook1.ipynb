{
    "metadata": {
        "kernelspec": {
            "name": "SQL",
            "display_name": "SQL",
            "language": "sql"
        },
        "language_info": {
            "name": "sql",
            "version": ""
        }
    },
    "nbformat_minor": 2,
    "nbformat": 4,
    "cells": [
        {
            "cell_type": "markdown",
            "source": [
                "# Test Notebook 1\n",
                "\n",
                "  \n",
                "\n",
                "Located in Root Directory."
            ],
            "metadata": {
                "azdata_cell_guid": "3887dfe4-8a23-4aef-b655-7623731a1368"
            },
            "attachments": {}
        },
        {
            "cell_type": "markdown",
            "source": [
                "### Below Test will use the Test\\_Link.ipynb to test the below scenarios:"
            ],
            "metadata": {
                "azdata_cell_guid": "db07ebfc-9557-4c6b-a4d3-52872bb92344"
            },
            "attachments": {}
        },
        {
            "cell_type": "markdown",
            "source": [
                "Absolute Link (Edit Cell):\n",
                ""
            ],
            "metadata": {
                "azdata_cell_guid": "789d91a0-3fe6-49cf-8388-a49f5bacacc8"
            },
            "attachments": {}
        },
        {
            "cell_type": "markdown",
            "source": [
                "Absolute Link (Non-Edit):"
            ],
            "metadata": {
                "azdata_cell_guid": "2915059f-b903-48c2-91d3-0b01c6c824f6"
            },
            "attachments": {}
        },
        {
            "cell_type": "markdown",
            "source": [
                "Relative Link (Edit Cell):"
            ],
            "metadata": {
                "azdata_cell_guid": "bdfe94ca-a7b0-42bc-ab05-45bfb519dc1a"
            },
            "attachments": {}
        },
        {
            "cell_type": "markdown",
            "source": [
                "Relative Link (Non-Edit):"
            ],
            "metadata": {
                "azdata_cell_guid": "85ec4d34-aa1f-49c5-90bd-093b6dcb05fe"
            },
            "attachments": {}
        },
        {
            "cell_type": "markdown",
            "source": [
                "### Below Test will use the Child Notebooks to test the below scenarios:"
            ],
            "metadata": {
                "azdata_cell_guid": "fe144af9-8124-4594-88ad-3c93d5e8cd88"
            },
            "attachments": {}
        },
        {
            "cell_type": "markdown",
            "source": [
                "Test Directory 1 (Absolute Link):"
            ],
            "metadata": {
                "azdata_cell_guid": "bedafab1-2b79-40d1-9973-de836daf3169"
            },
            "attachments": {}
        },
        {
            "cell_type": "markdown",
            "source": [
                "Test Directory 1 (Relative Link):"
            ],
            "metadata": {
                "azdata_cell_guid": "8a0b4951-0bb3-4fdd-b5ee-2a2b51557668"
            },
            "attachments": {}
        },
        {
            "cell_type": "markdown",
            "source": [
                "Test Directory 2 (Absolute Link):"
            ],
            "metadata": {
                "azdata_cell_guid": "d47fb0e4-c49d-414d-8b0e-edc888ff62a3"
            },
            "attachments": {}
        },
        {
            "cell_type": "markdown",
            "source": [
                "Test Directory 2 (Relative Link):"
            ],
            "metadata": {
                "azdata_cell_guid": "8cb6d8d2-dd19-4ec2-ac71-9c7894690e0b"
            },
            "attachments": {}
        }
    ]
}