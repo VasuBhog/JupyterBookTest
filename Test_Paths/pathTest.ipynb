{
    "metadata": {
        "kernelspec": {
            "name": "python3",
            "display_name": "Python 3",
            "language": "python"
        },
        "language_info": {
            "name": "python",
            "version": "3.6.8",
            "mimetype": "text/x-python",
            "codemirror_mode": {
                "name": "ipython",
                "version": 3
            },
            "pygments_lexer": "ipython3",
            "nbconvert_exporter": "python",
            "file_extension": ".py"
        },
        "extensions": {
            "azuredatastudio": {
                "version": 1,
                "views": []
            }
        }
    },
    "nbformat_minor": 2,
    "nbformat": 4,
    "cells": [
        {
            "cell_type": "markdown",
            "source": [
                "Space File: \n",
                "[/Users/vasubhog/GitProjects/LinksBook/Test\\_Paths/My File.ipynb](./My%2520File.ipynb)\n",
                "%20 File name\n",
                "[/Users/vasubhog/GitProjects/LinksBook/Test\\_Paths/My%20File.ipynb](./My%252520File.ipynb)"
            ],
            "metadata": {
                "azdata_cell_guid": "a8a49704-5429-452d-99d4-67f7762cf4ae",
                "extensions": {
                    "azuredatastudio": {
                        "views": []
                    }
                }
            },
            "attachments": {}
        },
        {
            "cell_type": "markdown",
            "source": [
                "anchor element:\n",
                "<a href=\"/Users/vasubhog/GitProjects/LinksBook/Test_Paths/My File.ipynb\">space file</a>\n",
                "\n",
                "<a href=\"/Users/vasubhog/GitProjects/LinksBook/Test_Paths/My%20File.ipynb\">%20 file</a>\n",
                ""
            ],
            "metadata": {
                "azdata_cell_guid": "e1b01555-c828-42fd-9428-35198060b7b8",
                "extensions": {
                    "azuredatastudio": {
                        "views": []
                    }
                }
            },
            "attachments": {}
        }
    ]
}