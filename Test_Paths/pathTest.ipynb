{
    "metadata": {
        "kernelspec": {
            "name": "python3",
            "display_name": "Python 3",
            "language": "python"
        },
        "language_info": {
            "name": "python",
            "version": "3.6.8",
            "mimetype": "text/x-python",
            "codemirror_mode": {
                "name": "ipython",
                "version": 3
            },
            "pygments_lexer": "ipython3",
            "nbconvert_exporter": "python",
            "file_extension": ".py"
        }
    },
    "nbformat_minor": 2,
    "nbformat": 4,
    "cells": [
        {
            "cell_type": "markdown",
            "source": [
                "[/Users/vasubhog/GitProjects/LinksBook/Test\\_Paths/My%20File.ipynb](./My%2520File.ipynb)"
            ],
            "metadata": {
                "azdata_cell_guid": "84c2f333-a5ca-459d-8185-271d8f2973cd"
            },
            "attachments": {}
        },
        {
            "cell_type": "markdown",
            "source": [
                "[/Users/vasubhog/GitProjects/LinksBook/Test\\_Paths/My File.ipynb](./My%20File.ipynb)  \n",
                "\n",
                "asdfadf"
            ],
            "metadata": {
                "azdata_cell_guid": "803495cc-97a3-41d2-93bf-d48be2cd65f4"
            },
            "attachments": {}
        },
        {
            "cell_type": "markdown",
            "source": [
                "[/Users/vasubhog/GitProjects/LinksBook/Test\\_Paths/cat test.jpeg](./cat%20test.jpeg)\n",
                "[/Users/vasubhog/GitProjects/LinksBook/Test\\_Paths/cat%20test.jpeg](./cat%2520test.jpeg)\n",
                "asdfasdf"
            ],
            "metadata": {
                "azdata_cell_guid": "65a6cd35-4c4f-474b-ae7a-2d9b6e22f413"
            }
        }
    ]
}